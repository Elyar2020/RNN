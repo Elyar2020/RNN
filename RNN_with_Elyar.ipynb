{
  "nbformat": 4,
  "nbformat_minor": 0,
  "metadata": {
    "colab": {
      "name": "RNN_with_Elyar.ipynb",
      "provenance": [],
      "collapsed_sections": []
    },
    "kernelspec": {
      "name": "python3",
      "display_name": "Python 3"
    }
  },
  "cells": [
    {
      "cell_type": "markdown",
      "metadata": {
        "id": "xpAuMVCwfWs8"
      },
      "source": [
        "# Recurrent Neural Network"
      ]
    },
    {
      "cell_type": "markdown",
      "metadata": {
        "id": "nxJfRe4bfYVA"
      },
      "source": [
        "## Part 1 - Data Preprocessing"
      ]
    },
    {
      "cell_type": "markdown",
      "metadata": {
        "id": "ir9zwETrfbrp"
      },
      "source": [
        "### Importing the libraries"
      ]
    },
    {
      "cell_type": "code",
      "metadata": {
        "id": "ZT1f24vHffuf"
      },
      "source": [
        "import numpy as np\n",
        "import matplotlib.pyplot as plt\n",
        "import pandas as pd"
      ],
      "execution_count": 1,
      "outputs": []
    },
    {
      "cell_type": "markdown",
      "metadata": {
        "id": "nQ47JAxrgmaL"
      },
      "source": [
        "### Importing the training set"
      ]
    },
    {
      "cell_type": "code",
      "metadata": {
        "id": "1xiv3pJOgqY3"
      },
      "source": [
        "dataset_train = pd.read_csv('Google_Stock_Price_Train.csv')\n",
        "training_set = dataset_train.iloc[:, 1:2].values"
      ],
      "execution_count": 2,
      "outputs": []
    },
    {
      "cell_type": "markdown",
      "metadata": {
        "id": "HT8_2UJegtG5"
      },
      "source": [
        "# step3:\n",
        "# ***#Feature Scaling***"
      ]
    },
    {
      "cell_type": "markdown",
      "metadata": {
        "id": "4ODzvF7d12Xx"
      },
      "source": [
        "it's recommended to use MinMaxScaler in RNN instade of standard scaler."
      ]
    },
    {
      "cell_type": "code",
      "metadata": {
        "id": "OTrF2kR7gx9x"
      },
      "source": [
        "from sklearn.preprocessing import MinMaxScaler\n",
        "sc = MinMaxScaler(feature_range = (0, 1))\n",
        "training_set_scaled = sc.fit_transform(training_set)"
      ],
      "execution_count": 3,
      "outputs": []
    },
    {
      "cell_type": "markdown",
      "metadata": {
        "id": "JyYgYocqhNUg"
      },
      "source": [
        "# **step4:**\n",
        "### Creating a data structure with 60 timesteps and 1 output"
      ]
    },
    {
      "cell_type": "markdown",
      "metadata": {
        "id": "Uyusgd4y3uG1"
      },
      "source": [
        "This step is one of the most important step in RNN.\n",
        "we need to new varible which I use X_train and y_train and both of them are empty list in the begining.\n",
        "than we need start for loop:\n",
        "for loop is going to be in range of 60 upto length of the trainig_set_scaled which is 1258 we start from 60 becuase we need minumun 3 month data to predict next days and becuase in stockmarket we have 20 finantioal days so 3 times 20 day is 60 and that is why we start from 60 ( that is time t).\n",
        "next step we need to append (training_set_scaled[i-60:i,0]) so we start from i-60 : i till i  becase range is between 60 t0 1258 i is going to be biger than 60 till 1285 and 0 here showes the coulumns name from our training_set_scale array which is first columns and first column in python start from 0.\n",
        "\n",
        "we need to make our y_train [] as well \n",
        "here we use append(training_set_scaled[i,0]) which mean's tim's t+1 and time t+1 becase we start from 60 and index in python start from 0 is going to be i which is 60 and not i+1  and columns is going to be the same as x_training.\n",
        "\n",
        "and finally we need to convert both of this list's to numpy array to be aible to use in RNN."
      ]
    },
    {
      "cell_type": "code",
      "metadata": {
        "id": "iofU21B0i6ST"
      },
      "source": [
        "X_train = []\n",
        "y_train = []\n",
        "for i in range(60, 1258):\n",
        "    X_train.append(training_set_scaled[i-60:i, 0])\n",
        "    y_train.append(training_set_scaled[i, 0])\n",
        "X_train, y_train = np.array(X_train), np.array(y_train)"
      ],
      "execution_count": 4,
      "outputs": []
    },
    {
      "cell_type": "markdown",
      "metadata": {
        "id": "D8yaN7Zvi95l"
      },
      "source": [
        "### Reshaping"
      ]
    },
    {
      "cell_type": "markdown",
      "metadata": {
        "id": "bvwOfEYzFuiF"
      },
      "source": [
        "in reshapping phase : we need to use reshape method to change our 2D array to 3D arrary so first parameter is X_train.shape[0] which shows number of the observations and X_train.shape[1] which shows the number of the coulumns for x_train which is 60 and 1 show the ???? which we add it and it is our third dimention."
      ]
    },
    {
      "cell_type": "code",
      "metadata": {
        "id": "FOXqJHmNjBkz"
      },
      "source": [
        "X_train = np.reshape(X_train, (X_train.shape[0], X_train.shape[1], 1))"
      ],
      "execution_count": 5,
      "outputs": []
    },
    {
      "cell_type": "markdown",
      "metadata": {
        "id": "ZRRSOJeVjEWV"
      },
      "source": [
        "## Part 2 - Building and Training the RNN"
      ]
    },
    {
      "cell_type": "markdown",
      "metadata": {
        "id": "k4XV88JMjHXG"
      },
      "source": [
        "### Importing the Keras libraries and packages"
      ]
    },
    {
      "cell_type": "code",
      "metadata": {
        "id": "9JRnqsxEjKsD"
      },
      "source": [
        "from keras.models import Sequential\n",
        "from keras.layers import Dense\n",
        "from keras.layers import LSTM\n",
        "from keras.layers import Dropout"
      ],
      "execution_count": 7,
      "outputs": []
    },
    {
      "cell_type": "markdown",
      "metadata": {
        "id": "FEIE-1s9jNzC"
      },
      "source": [
        "### Initialising the RNN"
      ]
    },
    {
      "cell_type": "markdown",
      "metadata": {
        "id": "iVMHDsUErH4a"
      },
      "source": [
        "we use regressor here becuase our output values are continues."
      ]
    },
    {
      "cell_type": "code",
      "metadata": {
        "id": "1338dJ0UjRKH"
      },
      "source": [
        "regressor = Sequential()"
      ],
      "execution_count": 9,
      "outputs": []
    },
    {
      "cell_type": "markdown",
      "metadata": {
        "id": "62eg1OPGjT8z"
      },
      "source": [
        "### Adding the first LSTM layer and some Dropout regularisation"
      ]
    },
    {
      "cell_type": "markdown",
      "metadata": {
        "id": "IFt1BfsGrapU"
      },
      "source": [
        "NOTE: for first layer.\n",
        "we import Sequential class from models modul and keras librare to add layers in our network \n",
        "so we use add() method of this class to add LSTM layer from LSTM class to our network. this layer from LSTM class takes 3 important parameters first one is units which is number of the nerouns.\n",
        "and return_sequences which mean's we are going to add another layer  and most be true, \n",
        "and input_shape which need to be 2D.which corresponding to time steps and indicaters(pridector).\n",
        " \n",
        "Also we use Dropout() class to prevent our model from over fitting and this class takes one important argument which is number of the NEURON our network is going to ignore in each iteration of forward and backword propogation to prevent our model from over fitting.and we use 20% which is most of the time defualt number and it's good enough.\n"
      ]
    },
    {
      "cell_type": "code",
      "metadata": {
        "id": "2hIinyXUjbVU"
      },
      "source": [
        "regressor.add(LSTM(units = 50, return_sequences = True, input_shape = (X_train.shape[1], 1)))\n",
        "regressor.add(Dropout(0.2))"
      ],
      "execution_count": 10,
      "outputs": []
    },
    {
      "cell_type": "markdown",
      "metadata": {
        "id": "3XBIYLyOjlMx"
      },
      "source": [
        "### Adding a second LSTM layer and some Dropout regularisation"
      ]
    },
    {
      "cell_type": "code",
      "metadata": {
        "id": "UG7nrVaSjuZ2"
      },
      "source": [
        "regressor.add(LSTM(units = 50, return_sequences = True))\n",
        "regressor.add(Dropout(0.2))"
      ],
      "execution_count": 11,
      "outputs": []
    },
    {
      "cell_type": "markdown",
      "metadata": {
        "id": "Ey3fHVnGj1cu"
      },
      "source": [
        "### Adding a third LSTM layer and some Dropout regularisation"
      ]
    },
    {
      "cell_type": "code",
      "metadata": {
        "id": "PuNi6PgFj7jO"
      },
      "source": [
        "regressor.add(LSTM(units = 50, return_sequences = True))\n",
        "regressor.add(Dropout(0.2))"
      ],
      "execution_count": 13,
      "outputs": []
    },
    {
      "cell_type": "markdown",
      "metadata": {
        "id": "SYTrtfTmj933"
      },
      "source": [
        "### Adding a fourth LSTM layer and some Dropout regularisation"
      ]
    },
    {
      "cell_type": "code",
      "metadata": {
        "id": "Jp4Ty8fRkBYV"
      },
      "source": [
        "regressor.add(LSTM(units = 50))\n",
        "regressor.add(Dropout(0.2))"
      ],
      "execution_count": 14,
      "outputs": []
    },
    {
      "cell_type": "markdown",
      "metadata": {
        "id": "9ABI6rOIkHhk"
      },
      "source": [
        "### Adding the output layer"
      ]
    },
    {
      "cell_type": "code",
      "metadata": {
        "id": "aM6R1z4WkME8"
      },
      "source": [
        "regressor.add(Dense(units = 1))"
      ],
      "execution_count": 15,
      "outputs": []
    },
    {
      "cell_type": "markdown",
      "metadata": {
        "id": "zLx4K7uUkPSh"
      },
      "source": [
        "### Compiling the RNN"
      ]
    },
    {
      "cell_type": "markdown",
      "metadata": {
        "id": "1M5QSVKf2Enp"
      },
      "source": [
        "In this section of the RNN we need to compile our network and to do so we need to go keras library and from optimizer section we can chose right optimizer from the list Available optimizers\n",
        "SGD\n",
        "RMSprop\n",
        "Adam\n",
        "Adadelta\n",
        "Adagrad\n",
        "Adamax\n",
        "Nadam\n",
        "Ftrl\n",
        "keras recommendation for RNN is RMSprop but we are going to use Adam in this code. and for loss funnction becuase it's regression not the classification problme best one is MSE."
      ]
    },
    {
      "cell_type": "code",
      "metadata": {
        "id": "XTrhVN-tkbko"
      },
      "source": [
        "regressor.compile(optimizer = 'adam', loss = 'mean_squared_error')"
      ],
      "execution_count": 16,
      "outputs": []
    },
    {
      "cell_type": "markdown",
      "metadata": {
        "id": "-mPhwKGkkebi"
      },
      "source": [
        "### Fitting the RNN to the Training set"
      ]
    },
    {
      "cell_type": "code",
      "metadata": {
        "id": "I06Nkrz5kkb-",
        "colab": {
          "base_uri": "https://localhost:8080/"
        },
        "outputId": "003608a4-7ac0-4014-d40b-1db7115ee3a4"
      },
      "source": [
        "regressor.fit(X_train, y_train, epochs = 100, batch_size = 32)"
      ],
      "execution_count": 17,
      "outputs": [
        {
          "output_type": "stream",
          "text": [
            "Epoch 1/100\n",
            "38/38 [==============================] - 14s 138ms/step - loss: 0.1123\n",
            "Epoch 2/100\n",
            "38/38 [==============================] - 6s 152ms/step - loss: 0.0078\n",
            "Epoch 3/100\n",
            "38/38 [==============================] - 5s 142ms/step - loss: 0.0068\n",
            "Epoch 4/100\n",
            "38/38 [==============================] - 5s 140ms/step - loss: 0.0069\n",
            "Epoch 5/100\n",
            "38/38 [==============================] - 5s 142ms/step - loss: 0.0055\n",
            "Epoch 6/100\n",
            "38/38 [==============================] - 5s 143ms/step - loss: 0.0060\n",
            "Epoch 7/100\n",
            "38/38 [==============================] - 6s 148ms/step - loss: 0.0056\n",
            "Epoch 8/100\n",
            "38/38 [==============================] - 5s 144ms/step - loss: 0.0048\n",
            "Epoch 9/100\n",
            "38/38 [==============================] - 5s 142ms/step - loss: 0.0046\n",
            "Epoch 10/100\n",
            "38/38 [==============================] - 6s 147ms/step - loss: 0.0048\n",
            "Epoch 11/100\n",
            "38/38 [==============================] - 5s 140ms/step - loss: 0.0051\n",
            "Epoch 12/100\n",
            "38/38 [==============================] - 5s 144ms/step - loss: 0.0051\n",
            "Epoch 13/100\n",
            "38/38 [==============================] - 6s 149ms/step - loss: 0.0047\n",
            "Epoch 14/100\n",
            "38/38 [==============================] - 6s 146ms/step - loss: 0.0046\n",
            "Epoch 15/100\n",
            "38/38 [==============================] - 5s 142ms/step - loss: 0.0044\n",
            "Epoch 16/100\n",
            "38/38 [==============================] - 5s 141ms/step - loss: 0.0041\n",
            "Epoch 17/100\n",
            "38/38 [==============================] - 5s 144ms/step - loss: 0.0045\n",
            "Epoch 18/100\n",
            "38/38 [==============================] - 5s 142ms/step - loss: 0.0038\n",
            "Epoch 19/100\n",
            "38/38 [==============================] - 6s 150ms/step - loss: 0.0047\n",
            "Epoch 20/100\n",
            "38/38 [==============================] - 6s 153ms/step - loss: 0.0036\n",
            "Epoch 21/100\n",
            "38/38 [==============================] - 5s 143ms/step - loss: 0.0040\n",
            "Epoch 22/100\n",
            "38/38 [==============================] - 6s 145ms/step - loss: 0.0035\n",
            "Epoch 23/100\n",
            "38/38 [==============================] - 6s 145ms/step - loss: 0.0036\n",
            "Epoch 24/100\n",
            "38/38 [==============================] - 5s 143ms/step - loss: 0.0032\n",
            "Epoch 25/100\n",
            "38/38 [==============================] - 6s 146ms/step - loss: 0.0037\n",
            "Epoch 26/100\n",
            "38/38 [==============================] - 6s 161ms/step - loss: 0.0039\n",
            "Epoch 27/100\n",
            "38/38 [==============================] - 6s 146ms/step - loss: 0.0036\n",
            "Epoch 28/100\n",
            "38/38 [==============================] - 6s 146ms/step - loss: 0.0033\n",
            "Epoch 29/100\n",
            "38/38 [==============================] - 6s 147ms/step - loss: 0.0036\n",
            "Epoch 30/100\n",
            "38/38 [==============================] - 6s 153ms/step - loss: 0.0034\n",
            "Epoch 31/100\n",
            "38/38 [==============================] - 6s 145ms/step - loss: 0.0032\n",
            "Epoch 32/100\n",
            "38/38 [==============================] - 6s 145ms/step - loss: 0.0031\n",
            "Epoch 33/100\n",
            "38/38 [==============================] - 6s 149ms/step - loss: 0.0032\n",
            "Epoch 34/100\n",
            "38/38 [==============================] - 5s 144ms/step - loss: 0.0030\n",
            "Epoch 35/100\n",
            "38/38 [==============================] - 6s 145ms/step - loss: 0.0030\n",
            "Epoch 36/100\n",
            "38/38 [==============================] - 6s 146ms/step - loss: 0.0033\n",
            "Epoch 37/100\n",
            "38/38 [==============================] - 6s 147ms/step - loss: 0.0036\n",
            "Epoch 38/100\n",
            "38/38 [==============================] - 6s 152ms/step - loss: 0.0032\n",
            "Epoch 39/100\n",
            "38/38 [==============================] - 6s 145ms/step - loss: 0.0029\n",
            "Epoch 40/100\n",
            "38/38 [==============================] - 5s 141ms/step - loss: 0.0034\n",
            "Epoch 41/100\n",
            "38/38 [==============================] - 6s 145ms/step - loss: 0.0025\n",
            "Epoch 42/100\n",
            "38/38 [==============================] - 5s 141ms/step - loss: 0.0026\n",
            "Epoch 43/100\n",
            "38/38 [==============================] - 5s 141ms/step - loss: 0.0028\n",
            "Epoch 44/100\n",
            "38/38 [==============================] - 5s 143ms/step - loss: 0.0030\n",
            "Epoch 45/100\n",
            "38/38 [==============================] - 5s 140ms/step - loss: 0.0031\n",
            "Epoch 46/100\n",
            "38/38 [==============================] - 5s 140ms/step - loss: 0.0033\n",
            "Epoch 47/100\n",
            "38/38 [==============================] - 5s 140ms/step - loss: 0.0031\n",
            "Epoch 48/100\n",
            "38/38 [==============================] - 5s 139ms/step - loss: 0.0029\n",
            "Epoch 49/100\n",
            "38/38 [==============================] - 5s 139ms/step - loss: 0.0030\n",
            "Epoch 50/100\n",
            "38/38 [==============================] - 5s 139ms/step - loss: 0.0027\n",
            "Epoch 51/100\n",
            "38/38 [==============================] - 5s 139ms/step - loss: 0.0029\n",
            "Epoch 52/100\n",
            "38/38 [==============================] - 5s 138ms/step - loss: 0.0025\n",
            "Epoch 53/100\n",
            "38/38 [==============================] - 5s 141ms/step - loss: 0.0026\n",
            "Epoch 54/100\n",
            "38/38 [==============================] - 5s 140ms/step - loss: 0.0022\n",
            "Epoch 55/100\n",
            "38/38 [==============================] - 5s 139ms/step - loss: 0.0025\n",
            "Epoch 56/100\n",
            "38/38 [==============================] - 5s 140ms/step - loss: 0.0023\n",
            "Epoch 57/100\n",
            "38/38 [==============================] - 5s 138ms/step - loss: 0.0026\n",
            "Epoch 58/100\n",
            "38/38 [==============================] - 5s 140ms/step - loss: 0.0026\n",
            "Epoch 59/100\n",
            "38/38 [==============================] - 5s 142ms/step - loss: 0.0025\n",
            "Epoch 60/100\n",
            "38/38 [==============================] - 5s 140ms/step - loss: 0.0025\n",
            "Epoch 61/100\n",
            "38/38 [==============================] - 6s 148ms/step - loss: 0.0022\n",
            "Epoch 62/100\n",
            "38/38 [==============================] - 5s 139ms/step - loss: 0.0023\n",
            "Epoch 63/100\n",
            "38/38 [==============================] - 5s 139ms/step - loss: 0.0022\n",
            "Epoch 64/100\n",
            "38/38 [==============================] - 5s 142ms/step - loss: 0.0022\n",
            "Epoch 65/100\n",
            "38/38 [==============================] - 6s 145ms/step - loss: 0.0023\n",
            "Epoch 66/100\n",
            "38/38 [==============================] - 6s 149ms/step - loss: 0.0025\n",
            "Epoch 67/100\n",
            "38/38 [==============================] - 6s 145ms/step - loss: 0.0023\n",
            "Epoch 68/100\n",
            "38/38 [==============================] - 6s 147ms/step - loss: 0.0017\n",
            "Epoch 69/100\n",
            "38/38 [==============================] - 6s 145ms/step - loss: 0.0021\n",
            "Epoch 70/100\n",
            "38/38 [==============================] - 6s 146ms/step - loss: 0.0025\n",
            "Epoch 71/100\n",
            "38/38 [==============================] - 6s 152ms/step - loss: 0.0025\n",
            "Epoch 72/100\n",
            "38/38 [==============================] - 6s 153ms/step - loss: 0.0023\n",
            "Epoch 73/100\n",
            "38/38 [==============================] - 6s 145ms/step - loss: 0.0022\n",
            "Epoch 74/100\n",
            "38/38 [==============================] - 6s 146ms/step - loss: 0.0021\n",
            "Epoch 75/100\n",
            "38/38 [==============================] - 5s 144ms/step - loss: 0.0022\n",
            "Epoch 76/100\n",
            "38/38 [==============================] - 6s 150ms/step - loss: 0.0023\n",
            "Epoch 77/100\n",
            "38/38 [==============================] - 6s 157ms/step - loss: 0.0020\n",
            "Epoch 78/100\n",
            "38/38 [==============================] - 6s 154ms/step - loss: 0.0020\n",
            "Epoch 79/100\n",
            "38/38 [==============================] - 6s 151ms/step - loss: 0.0022\n",
            "Epoch 80/100\n",
            "38/38 [==============================] - 6s 160ms/step - loss: 0.0017\n",
            "Epoch 81/100\n",
            "38/38 [==============================] - 6s 165ms/step - loss: 0.0019\n",
            "Epoch 82/100\n",
            "38/38 [==============================] - 6s 150ms/step - loss: 0.0018\n",
            "Epoch 83/100\n",
            "38/38 [==============================] - 6s 146ms/step - loss: 0.0021\n",
            "Epoch 84/100\n",
            "38/38 [==============================] - 5s 143ms/step - loss: 0.0018\n",
            "Epoch 85/100\n",
            "38/38 [==============================] - 5s 144ms/step - loss: 0.0018\n",
            "Epoch 86/100\n",
            "38/38 [==============================] - 5s 143ms/step - loss: 0.0019\n",
            "Epoch 87/100\n",
            "38/38 [==============================] - 5s 143ms/step - loss: 0.0018\n",
            "Epoch 88/100\n",
            "38/38 [==============================] - 5s 144ms/step - loss: 0.0019\n",
            "Epoch 89/100\n",
            "38/38 [==============================] - 5s 141ms/step - loss: 0.0017\n",
            "Epoch 90/100\n",
            "38/38 [==============================] - 5s 143ms/step - loss: 0.0016\n",
            "Epoch 91/100\n",
            "38/38 [==============================] - 6s 145ms/step - loss: 0.0017\n",
            "Epoch 92/100\n",
            "38/38 [==============================] - 6s 149ms/step - loss: 0.0016\n",
            "Epoch 93/100\n",
            "38/38 [==============================] - 6s 146ms/step - loss: 0.0021\n",
            "Epoch 94/100\n",
            "38/38 [==============================] - 6s 149ms/step - loss: 0.0019\n",
            "Epoch 95/100\n",
            "38/38 [==============================] - 5s 140ms/step - loss: 0.0016\n",
            "Epoch 96/100\n",
            "38/38 [==============================] - 5s 143ms/step - loss: 0.0018\n",
            "Epoch 97/100\n",
            "38/38 [==============================] - 6s 150ms/step - loss: 0.0016\n",
            "Epoch 98/100\n",
            "38/38 [==============================] - 6s 150ms/step - loss: 0.0015\n",
            "Epoch 99/100\n",
            "38/38 [==============================] - 6s 157ms/step - loss: 0.0018\n",
            "Epoch 100/100\n",
            "38/38 [==============================] - 6s 148ms/step - loss: 0.0016\n"
          ],
          "name": "stdout"
        },
        {
          "output_type": "execute_result",
          "data": {
            "text/plain": [
              "<tensorflow.python.keras.callbacks.History at 0x7f2d23e71050>"
            ]
          },
          "metadata": {
            "tags": []
          },
          "execution_count": 17
        }
      ]
    },
    {
      "cell_type": "markdown",
      "metadata": {
        "id": "4hRau_lIkrE8"
      },
      "source": [
        "## Part 3 - Making the predictions and visualising the results"
      ]
    },
    {
      "cell_type": "markdown",
      "metadata": {
        "id": "SgJO6qEDksxD"
      },
      "source": [
        "### Getting the real stock price of 2017"
      ]
    },
    {
      "cell_type": "code",
      "metadata": {
        "id": "FmBT2zqukxTz"
      },
      "source": [
        "dataset_test = pd.read_csv('Google_Stock_Price_Test.csv')\n",
        "real_stock_price = dataset_test.iloc[:, 1:2].values"
      ],
      "execution_count": 19,
      "outputs": []
    },
    {
      "cell_type": "markdown",
      "metadata": {
        "id": "GrvrLblxkz42"
      },
      "source": [
        "### Getting the predicted stock price of 2017"
      ]
    },
    {
      "cell_type": "code",
      "metadata": {
        "id": "emikTvUpk3Ck"
      },
      "source": [
        "dataset_total = pd.concat((dataset_train['Open'], dataset_test['Open']), axis = 0)\n",
        "inputs = dataset_total[len(dataset_total) - len(dataset_test) - 60:].values\n",
        "inputs = inputs.reshape(-1,1)\n",
        "inputs = sc.transform(inputs)\n",
        "X_test = []\n",
        "for i in range(60, 80):\n",
        "    X_test.append(inputs[i-60:i, 0])\n",
        "X_test = np.array(X_test)\n",
        "X_test = np.reshape(X_test, (X_test.shape[0], X_test.shape[1], 1))\n",
        "predicted_stock_price = regressor.predict(X_test)\n",
        "predicted_stock_price = sc.inverse_transform(predicted_stock_price)"
      ],
      "execution_count": 20,
      "outputs": []
    },
    {
      "cell_type": "code",
      "metadata": {
        "colab": {
          "base_uri": "https://localhost:8080/"
        },
        "id": "gJ3elFnbdn-p",
        "outputId": "cba33bbb-4b20-4e1d-b82b-b98c3ad1a997"
      },
      "source": [
        "print(predicted_stock_price)"
      ],
      "execution_count": 21,
      "outputs": [
        {
          "output_type": "stream",
          "text": [
            "[[801.36163]\n",
            " [798.9146 ]\n",
            " [798.23553]\n",
            " [798.79584]\n",
            " [801.0327 ]\n",
            " [805.4767 ]\n",
            " [810.2548 ]\n",
            " [813.0575 ]\n",
            " [814.1327 ]\n",
            " [814.3451 ]\n",
            " [814.2988 ]\n",
            " [814.1648 ]\n",
            " [814.0716 ]\n",
            " [814.4734 ]\n",
            " [815.2974 ]\n",
            " [818.67755]\n",
            " [824.2642 ]\n",
            " [830.78406]\n",
            " [835.2933 ]\n",
            " [833.86285]]\n"
          ],
          "name": "stdout"
        }
      ]
    },
    {
      "cell_type": "markdown",
      "metadata": {
        "id": "iFTNs3YHk6FQ"
      },
      "source": [
        "### Visualising the results"
      ]
    },
    {
      "cell_type": "code",
      "metadata": {
        "id": "8OUI8U49k9tH",
        "colab": {
          "base_uri": "https://localhost:8080/",
          "height": 295
        },
        "outputId": "27237e27-364e-4f17-e882-6fc52c0a54a3"
      },
      "source": [
        "plt.plot(real_stock_price, color = 'red', label = 'Real Google Stock Price')\n",
        "plt.plot(predicted_stock_price, color = 'blue', label = 'Predicted Google Stock Price')\n",
        "plt.title('Google Stock Price Prediction')\n",
        "plt.xlabel('Time')\n",
        "plt.ylabel('Google Stock Price')\n",
        "plt.legend()\n",
        "plt.show()"
      ],
      "execution_count": 22,
      "outputs": [
        {
          "output_type": "display_data",
          "data": {
            "image/png": "[encoded data removed]",
            "text/plain": [
              "<Figure size 432x288 with 1 Axes>"
            ]
          },
          "metadata": {
            "tags": [],
            "needs_background": "light"
          }
        }
      ]
    }
  ]
}